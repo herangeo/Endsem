{
 "cells": [
  {
   "cell_type": "code",
   "execution_count": 1,
   "metadata": {},
   "outputs": [],
   "source": [
    "import pandas as pd\n",
    "import nltk\n",
    "from wordcloud import WordCloud\n",
    "import matplotlib.pyplot as plt\n",
    "from nltk.corpus import stopwords\n",
    "from nltk.tokenize import word_tokenize\n",
    "from nltk.stem import PorterStemmer, WordNetLemmatizer\n",
    "\n",
    "\n",
    "df = pd.read_csv('WomensClothingE-CommerceReviews.csv')"
   ]
  },
  {
   "cell_type": "code",
   "execution_count": 2,
   "metadata": {},
   "outputs": [
    {
     "name": "stdout",
     "output_type": "stream",
     "text": [
      "   Age                    Title  \\\n",
      "0   33                      NaN   \n",
      "1   34                      NaN   \n",
      "2   60  Some major design flaws   \n",
      "3   50         My favorite buy!   \n",
      "4   47         Flattering shirt   \n",
      "\n",
      "                                         Review Text  Rating  Recommended IND  \\\n",
      "0  Absolutely wonderful - silky and sexy and comf...       4                1   \n",
      "1  Love this dress!  it's sooo pretty.  i happene...       5                1   \n",
      "2  I had such high hopes for this dress and reall...       3                0   \n",
      "3  I love, love, love this jumpsuit. it's fun, fl...       5                1   \n",
      "4  This shirt is very flattering to all due to th...       5                1   \n",
      "\n",
      "   Positive Feedback Count   Division Name Department Name Class Name  \n",
      "0                        0       Initmates        Intimate  Intimates  \n",
      "1                        4         General         Dresses    Dresses  \n",
      "2                        0         General         Dresses    Dresses  \n",
      "3                        0  General Petite         Bottoms      Pants  \n",
      "4                        6         General            Tops    Blouses  \n"
     ]
    }
   ],
   "source": [
    "# Display the first few rows of the DataFrame\n",
    "print(df.head())\n",
    "\n"
   ]
  },
  {
   "cell_type": "code",
   "execution_count": 3,
   "metadata": {},
   "outputs": [],
   "source": [
    "def preprocess_text(text):\n",
    "\n",
    "    tokens = nltk.word_tokenize(text.lower())\n",
    "\n",
    "    tokens = [token for token in tokens if token.isalnum()]\n",
    "    \n",
    "\n",
    "    stop_words = set(stopwords.words('english'))\n",
    "    tokens = [token for token in tokens if token not in stop_words]\n",
    "    \n",
    "\n",
    "    lemmatizer = WordNetLemmatizer()\n",
    "    tokens = [lemmatizer.lemmatize(token) for token in tokens]\n",
    "    \n",
    "\n",
    "    stemmer = PorterStemmer()\n",
    "    tokens = [stemmer.stem(token) for token in tokens]\n",
    "    \n",
    "    return tokens"
   ]
  },
  {
   "cell_type": "code",
   "execution_count": 11,
   "metadata": {},
   "outputs": [],
   "source": [
    "import pandas as pd\n",
    "\n",
    "df = pd.read_csv('WomensClothingE-CommerceReviews.csv')\n",
    "\n",
    "# Extract the first 20 reviews\n",
    "text1_reviews = df['Review Text'][:20]\n",
    "\n",
    "# Extract the next 20 reviews\n",
    "text2_reviews = df['Review Text'][20:40]\n",
    "\n",
    "# Write the first 20 reviews to Text1.txt\n",
    "with open('Text1.txt', 'w', encoding='utf-8') as text1_file:\n",
    "    for review in text1_reviews:\n",
    "        text1_file.write(review + '\\n')\n",
    "\n",
    "# Write the next 20 reviews to Text2.txt\n",
    "with open('Text2.txt', 'w', encoding='utf-8') as text2_file:\n",
    "    for review in text2_reviews:\n",
    "        text2_file.write(review + '\\n')\n"
   ]
  },
  {
   "cell_type": "code",
   "execution_count": 12,
   "metadata": {},
   "outputs": [],
   "source": [
    "from nltk.corpus import stopwords\n",
    "from nltk.stem import WordNetLemmatizer, PorterStemmer\n",
    "from sklearn.feature_extraction.text import TfidfVectorizer\n",
    "from sklearn.metrics.pairwise import cosine_similarity\n",
    "\n",
    "\n",
    "def preprocess_text(text):\n",
    "\n",
    "    tokens = nltk.word_tokenize(text.lower())\n",
    "    \n",
    "\n",
    "    tokens = [token for token in tokens if token.isalnum()]\n",
    "    \n",
    "\n",
    "    stop_words = set(stopwords.words('english'))\n",
    "    tokens = [token for token in tokens if token not in stop_words]\n",
    "    \n",
    "\n",
    "    lemmatizer = WordNetLemmatizer()\n",
    "    tokens = [lemmatizer.lemmatize(token) for token in tokens]\n",
    "    \n",
    "\n",
    "    stemmer = PorterStemmer()\n",
    "    tokens = [stemmer.stem(token) for token in tokens]\n",
    "    \n",
    "    return tokens\n",
    "def jaccard_similarity(set1, set2):\n",
    "    intersection = len(set1.intersection(set2))\n",
    "    union = len(set1.union(set2))\n",
    "    return intersection / union\n"
   ]
  },
  {
   "cell_type": "code",
   "execution_count": 13,
   "metadata": {},
   "outputs": [
    {
     "name": "stdout",
     "output_type": "stream",
     "text": [
      "Jaccard Similarity: 0.2456813819577735\n",
      "Tokens 1: {'could', 'front', 'away', 'shimmer', 'dri', 'order', 'open', 'stranger', 'happen', 'estim', 'medium', 'petit', 'ankl', 'everi', 'usual', 'realli', 'crisp', '1', 'hit', 'cozi', 'style', 'still', 'shirt', 'midi', 'beauti', 'review', 'feel', 'pair', 'major', 'typic', '34b', 'rip', 'figur', 'good', 'pale', 'loos', 'someth', 'savvi', 'comfort', 'find', 'net', 'fluffi', 'pant', 'everythi', '125', 'happi', 'tell', 'x', 'busti', 'describ', 'initi', 'imo', 'roomi', '6', 'delic', 'esp', 'lower', 'made', 'regular', 'line', 'shopper', 'go', 'sexi', 'small', 'conserv', 'flatter', 'problem', 'carbon', 'brand', 'though', 'larg', '135', 'flair', 'narrow', 'embellish', 'whit', 'wear', 'pretti', 'smoothli', 'chanc', 'hte', 'baggi', 'ton', 'fun', 'say', 'also', 'flaw', 'parti', 'easili', 'color', 'xx', 'littl', 'love', 'retail', 'absolut', 'perfectli', 'year', 'noth', 'fall', 'larkspur', 'sure', 'alway', 'glad', 'msallet', 'bc', 'sinc', 'silki', 'strap', 'came', 'compliment', 'foot', 'cup', 'take', 'definit', 'tall', 'one', 'shape', 'think', 'even', 'lot', '3', 'hope', 'etc', 'qualiti', 'crazi', 'wonder', 'snug', 'ca', 'tt', 'opinion', 'height', 'area', 'long', 'right', 'jumpsuit', 'half', 'holiday', '0p', 'put', '5', 'super', 'flirti', 'model', 'drape', 'outer', 'gather', 'bust', 'traci', 'differ', 'somewhat', 'badli', 'ldecid', 'day', 'steam', 'got', 'new', 'tight', 'black', 'make', 'caus', 'larger', 'back', 'sewn', 'charcoal', 'bother', 'want', 'would', 'stat', 'high', 'zipper', 'taller', 'knee', 'due', 'sleev', 'ejan', 'pick', 'bought', 'offic', 'tull', 'alter', 'tie', 'well', 'eve', 'store', 'pencil', 'christma', 'bottom', 'zip', 'stuck', 'old', 'smaller', 'may', 'took', 'compaint', 'big', 'waist', 'flare', 'way', 'print', 'pleat', 'look', 'fact', 'overwhelm', 'kept', 'xsp', 'great', 'rees', 'disappoint', 'stuff', 'leg', 'see', 'full', 'perhap', 'true', 'sleeveless', 'launder', 'shorten', 'fabul', 'relat', 'outfit', 'outrag', 'wrong', 'tuck', 'matvehd', 'hip', 'sever', 'wil', 'layer', 'basket', 'imagin', 'materi', 'mintu', 'found', 'cold', 'sooo', 'work', 'dressier', 'turn', 'fabric', 'terribl', 'bodi', 'doubt', 'person', 'time', 'light', 'enough', 'prefectli', 'later', 'feminin', 'waa', 'packag', 'coat', 'written', 'everyth', 'hem', 'white', 'run', 'past', 'smallest', 'like', 'truli', 'le', 'chest', 'bit', 'match', 'blous', 'dress', 'clean', 'graz', 'sold', 'last', 'underneath', 'garment', 'reorder', 'oop', 'frame', 'alreadi', 'get', 'darkler', 'around', 'lb', 'solid', 'flowi', 'jean', 'mathc', 'idea', 'nice', '100', 'overal', 'grrrrrrrrrrr', 'adjust', 'reliant', 'c', 'decid', 'directli', 'choic', 'perfect', 'needl', 'sp', 'said', 'nightwear', 'length', 'straight', 'use', 'pull', 'top', 'fit', 'product', 'tri', 'type', 'size', 'least', 'averag', 'cheap', 'longer', 'never', 'teh', 'skirt', 'rid', 'design', 'jkeep', 'bummer', 'return', 'case', 'gorgeou', 'someon', 'ade', 'photograph', 'form', 'sturdi', 'portion', 'went', 'onlin', 'cardigan', '8', 'reminisc'}\n",
      "Tokens 2: {'warm', 'although', 'huge', 'front', 'could', 'away', 'accur', 'didnt', 'dri', 'order', 'camisol', 'open', 'rock', 'medium', 'petit', 'hesit', 'other', 'usual', 'realli', 'necklac', 'wool', 'liter', 'classic', 'redo', 'appear', 'trend', 'funki', 'wide', 'show', 'worth', 'style', 'still', 'felt', '130', 'wider', 'shirt', 'stet', 'movement', 'beauti', 'feel', 'pair', 'good', 'belli', 'someth', 'loos', 'peplum', 'shoulder', 'comfort', 'find', 'vest', 'buy', 'pant', 'chubbi', 'describ', 'first', 'dont', 'brighter', 'price', 'gray', '6', 'made', 'regular', 'fell', '30', 'go', 'call', 'small', 'crop', 'flatter', 'expect', 'pregnant', 'china', 'brand', 'larg', 'better', '135', 'boxi', '60', 'wear', 'wo', 'pretti', 'mention', 'tad', 'ship', 'fun', 'comfi', 'say', 'mani', 'gap', 'also', 'casual', 'awkward', 'easili', 'color', 'littl', 'saw', 'weight', 'love', '9', 'grey', 'keep', 'skinni', 'carri', 'pullov', 'boot', 'care', 'slip', 'fall', 'sure', 'alway', '4', 'sinc', 'excit', 'came', 'short', 'compliment', 'foot', 'purchas', 'stretch', 'practic', 'definit', 'tall', 'shape', 'im', 'anyth', 'think', 'even', 'one', 'winter', '3', 'soft', 'qualiti', 'season', 'tt', 'opinion', 'height', 'long', 'right', 'arriv', 'vibrant', 'exchang', '5', 'cute', 'super', 'bonu', 'need', 'stripe', 'drape', 'squat', 'bust', 'sale', 'either', 'cuter', 'ad', 'ver', 'itchi', 'side', 'amaz', 'thick', 'emb', 'got', 'tight', 'make', 'back', 'tini', 'cut', 'part', 'would', 'high', 'zipper', 'nicer', 'sleev', 'week', 'houston', 'bought', 'tull', 'blazer', 'tie', 'downsid', 'well', 'store', 'except', 'yet', 'guess', 'collarless', 'tailor', '140lb', 'big', 'waist', 'whim', 'flare', 'print', 'photo', 'look', 'fix', 'great', 'disappoint', 'dark', 'sadli', 'inch', 'leg', 'true', 'layerng', 'forehead', 'blue', 'wedg', 'sever', 'layer', 'wish', 'navi', 'final', 'materi', 'thin', 'tank', 'upset', 'wore', 'work', 'flat', 'sweater', 'knit', 'fabric', 'uniqu', 'tigh', 'quot', 'person', 'underr', 'provid', 'light', 'subpar', 'enough', 'mom', 'coat', 'flexibl', 'white', 'run', 'like', 'pictur', 'mainli', 'sorri', 'bit', 'bough', 'span', 'month', 'dress', 'clean', 'paid', 'underneath', 'get', 'occas', 'goodhyouman', 'move', 'jean', 'balanc', '36d', 'much', 'nice', 'overal', 'thought', 'issu', 'especi', 'embroid', 'simpl', 'forth', 'unsnap', 'perfect', 'box', 'necklin', 'length', 'med', 'button', 'pull', 'atleast', 'top', 'imposs', 'fit', 'product', 'tri', 'size', 'least', 'polish', 'cheap', 'given', 'longer', 'three', 'proport', 'never', 'skirt', 'wait', 'design', 'return', 'neat', 'kiss', 'gorgeou', '130lb', 'someon', 'second', 'pilcro', 'jacket', 'ago', 'end', 'snap', 'form', 'knew', 'portion', 'els', 'grow', 'next', 'onlin', '39', '8', 'poofi', 'quirki', 'cri'}\n",
      "Cosine Similarity:\n",
      "[[0.61392157]]\n"
     ]
    }
   ],
   "source": [
    "\n",
    "with open('Text1.txt', 'r', encoding='utf-8') as file:\n",
    "\n",
    "    Text1= file.read()\n",
    "\n",
    "with open('Text2.txt', 'r', encoding='utf-8') as file:\n",
    "\n",
    "    Text2= file.read()\n",
    "\n",
    "tokens1 = set(preprocess_text(Text1))\n",
    "tokens2 = set(preprocess_text(Text2))\n",
    "\n",
    "similarity_score = jaccard_similarity(tokens1, tokens2)\n",
    "print(f\"Jaccard Similarity: {similarity_score}\")\n",
    "print(f\"Tokens 1: {tokens1}\\nTokens 2: {tokens2}\")\n",
    "\n",
    "vectorizer = TfidfVectorizer()\n",
    "vector1 = vectorizer.fit_transform([' '.join(tokens1)])\n",
    "vector2 = vectorizer.transform([' '.join(tokens2)])\n",
    "\n",
    "cos_similarity = cosine_similarity(vector1, vector2)\n",
    "print(f\"Cosine Similarity:\\n{cos_similarity}\")"
   ]
  },
  {
   "cell_type": "code",
   "execution_count": 14,
   "metadata": {},
   "outputs": [
    {
     "data": {
      "image/png": "[encoded data removed]",
      "text/plain": [
       "<Figure size 800x500 with 1 Axes>"
      ]
     },
     "metadata": {},
     "output_type": "display_data"
    }
   ],
   "source": [
    "\n",
    "scores = [0.22837370242214533, 0.5935921]\n",
    "methods = ['Jaccard Similarity', 'Cosine Similarity']\n",
    "\n",
    "\n",
    "plt.figure(figsize=(8, 5))\n",
    "plt.bar(methods, scores, color=['blue', 'green'])\n",
    "plt.xlabel('Similarity Method')\n",
    "plt.ylabel('Similarity Score')\n",
    "plt.title('Comparison of Similarity Scores')\n",
    "plt.ylim(0, 1) \n",
    "plt.show()\n",
    "\n"
   ]
  }
 ],
 "metadata": {
  "kernelspec": {
   "display_name": "Python 3",
   "language": "python",
   "name": "python3"
  },
  "language_info": {
   "codemirror_mode": {
    "name": "ipython",
    "version": 3
   },
   "file_extension": ".py",
   "mimetype": "text/x-python",
   "name": "python",
   "nbconvert_exporter": "python",
   "pygments_lexer": "ipython3",
   "version": "3.12.0"
  }
 },
 "nbformat": 4,
 "nbformat_minor": 2
}
